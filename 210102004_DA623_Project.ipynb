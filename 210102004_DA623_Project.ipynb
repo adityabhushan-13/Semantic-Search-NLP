{
 "cells": [
  {
   "cell_type": "markdown",
   "id": "907c8f39",
   "metadata": {},
   "source": [
    "# Semantic Search Using Progressive Text Representation Techniques\n",
    "## By [Aditya Bhushan, 210102004]"
   ]
  },
  {
   "cell_type": "markdown",
   "id": "50a1ba8f",
   "metadata": {},
   "source": [
    "## 1. Motivation\n",
    "In the world of massive amounts of textual data, retrieving relevant information quickly is a common need across various industries like customer support and academic research. Traditional keyword-based search engines often fail to capture the semantic meaning behind a query. This project addresses that by building a semantic search engine using modern NLP techniques."
   ]
  },
  {
   "cell_type": "markdown",
   "id": "680fcc73",
   "metadata": {},
   "source": [
    "## 2. Connection to Multimodal Learning\n",
    "While this project focuses on text, the progression from Bag-of-Words to BERT embeddings reflects a deepening multimodal understanding — going from sparse symbolic features to dense contextual embeddings. It also mirrors the evolution in NLP pipelines: \n",
    "- Classic representations (BoW, TF-IDF)\n",
    "- Learned word embeddings (Word2Vec)\n",
    "- Deep contextual representations (BERT)\n",
    "K-Means clustering is applied only in the final stage (after BERT), showing how we can organize meaningfully similar documents."
   ]
  },
  {
   "cell_type": "markdown",
   "id": "3c953345",
   "metadata": {},
   "source": [
    "## 3. Learnings from This Work\n",
    "This project helped me build a layered understanding of how different text representation techniques affect the effectiveness of semantic search.\n",
    "\n",
    "- BoW and TF-IDF offered interpretable but shallow approaches—good for quick baselines but unable to capture the actual meaning behind words.\n",
    "\n",
    "- Word2Vec marked a clear step up, introducing distributed representations and capturing word-level semantics. It enabled some level of similarity detection between semantically close words.\n",
    "\n",
    "- BERT brought a breakthrough—contextualized word embeddings that preserved sentence-level meaning and polysemy, drastically improving relevance in semantic matching.\n",
    "\n",
    "- K-Means applied on BERT embeddings helped organize semantically similar sentences into meaningful clusters, making it easier to search and retrieve grouped information.\n",
    "This progression made it clear how each method improves upon the previous both in theory and practice."
   ]
  },
  {
   "cell_type": "markdown",
   "id": "32997543",
   "metadata": {},
   "source": [
    "## 4. Code\n",
    "\n",
    "This notebook demonstrates a progressive approach to solving the problem of **semantic search** using increasingly powerful Natural Language Processing (NLP) techniques. The goal is to retrieve the most semantically relevant document given a user query.\n",
    "\n",
    "We explore the following representations:\n",
    "\n",
    "1. **Bag of Words (BoW)**\n",
    "2. **TF-IDF (Term Frequency–Inverse Document Frequency)**\n",
    "3. **Word2Vec Embeddings**\n",
    "4. **BERT Embeddings + KMeans Clustering**\n",
    "\n",
    "---"
   ]
  },
  {
   "cell_type": "markdown",
   "id": "bf541f43",
   "metadata": {},
   "source": [
    "## (a). Bag of Words (BoW)\n",
    "**Approach:**\n",
    "Each document is represented as a vector of word counts.\n",
    "\n",
    "**Advantages:**\n",
    "- Simple and easy to implement\n",
    "- Fast and interpretable\n",
    "\n",
    "**Disadvantages:**\n",
    "- Ignores word order and context\n",
    "- Cannot capture semantic similarity (e.g., 'Paris' and 'France')\n",
    "\n"
   ]
  },
  {
   "cell_type": "code",
   "execution_count": null,
   "id": "ebab980c",
   "metadata": {},
   "outputs": [
    {
     "name": "stdout",
     "output_type": "stream",
     "text": [
      "🔍 Top 3 most similar questions to your query (BoW):\n",
      "• How do I reset my password? (Score: 1.000)\n",
      "• What payment methods are accepted? (Score: 0.000)\n",
      "• How do I track my package? (Score: 0.000)\n"
     ]
    }
   ],
   "source": [
    "# BoW\n",
    "from sklearn.feature_extraction.text import CountVectorizer\n",
    "from sklearn.metrics.pairwise import cosine_similarity\n",
    "\n",
    "# documents (questions)\n",
    "documents = [\n",
    "    \"How do I reset my password?\",\n",
    "    \"Where can I find the refund policy?\",\n",
    "    \"What is the return period for electronics?\",\n",
    "    \"How to change my shipping address?\",\n",
    "    \"How do I contact customer service?\",\n",
    "    \"Is there a warranty on this product?\",\n",
    "    \"What are the delivery charges?\",\n",
    "    \"Can I cancel my order after shipping?\",\n",
    "    \"How do I track my package?\",\n",
    "    \"What payment methods are accepted?\"\n",
    "]\n",
    "\n",
    "# Stage 1: Bag of Words (BoW) Vectorization\n",
    "vectorizer = CountVectorizer(stop_words='english')\n",
    "X_bow = vectorizer.fit_transform(documents)\n",
    "\n",
    "# Semantic Search using BoW (Cosine Similarity)\n",
    "query = \"How do I reset my account password?\"\n",
    "query_vec = vectorizer.transform([query])\n",
    "\n",
    "# Cosine similarity between query and documents\n",
    "cos_similarities = cosine_similarity(query_vec, X_bow).flatten()\n",
    "\n",
    "# Print top 3 most similar documents\n",
    "top_indices = cos_similarities.argsort()[-3:][::-1]\n",
    "print(\"🔍 Top 3 most similar questions to your query (BoW):\")\n",
    "for idx in top_indices:\n",
    "    print(f\"• {documents[idx]} (Score: {cos_similarities[idx]:.3f})\")"
   ]
  },
  {
   "cell_type": "markdown",
   "id": "cfdc3548",
   "metadata": {},
   "source": [
    "**Why move to next model?**\n",
    "BoW treats all words equally. Words with high frequency dominate similarity even if not meaningful. TF-IDF addresses this."
   ]
  },
  {
   "cell_type": "markdown",
   "id": "a9abd089",
   "metadata": {},
   "source": [
    "## (b). TF-IDF\n",
    "**Approach:**\n",
    "Weights each word by its frequency in a document relative to its frequency across documents.\n",
    "\n",
    "**Advantages:**\n",
    "- Reduces the importance of common words\n",
    "- Improves upon BoW by introducing significance\n",
    "\n",
    "**Disadvantages:**\n",
    "- Still TF-IDF: ignores semantics and word order\n",
    "\n"
   ]
  },
  {
   "cell_type": "code",
   "execution_count": null,
   "id": "bab95cc4",
   "metadata": {},
   "outputs": [
    {
     "name": "stdout",
     "output_type": "stream",
     "text": [
      "🔍 Top 3 most similar questions to your query (TF-IDF):\n",
      "• Where can I find the refund policy? (Score: 0.707)\n",
      "• What payment methods are accepted? (Score: 0.000)\n",
      "• How do I track my package? (Score: 0.000)\n"
     ]
    }
   ],
   "source": [
    "# TF-IDF\n",
    "from sklearn.feature_extraction.text import TfidfVectorizer\n",
    "from sklearn.metrics.pairwise import cosine_similarity\n",
    "\n",
    "# documents (questions)\n",
    "documents = [\n",
    "    \"How do I reset my password?\",\n",
    "    \"Where can I find the refund policy?\",\n",
    "    \"What is the return period for electronics?\",\n",
    "    \"How to change my shipping address?\",\n",
    "    \"How do I contact customer service?\",\n",
    "    \"Is there a warranty on this product?\",\n",
    "    \"What are the delivery charges?\",\n",
    "    \"Can I cancel my order after shipping?\",\n",
    "    \"How do I track my package?\",\n",
    "    \"What payment methods are accepted?\"\n",
    "]\n",
    "\n",
    "# Stage 2: TF-IDF Vectorization\n",
    "vectorizer = TfidfVectorizer(stop_words='english')\n",
    "X_tfidf = vectorizer.fit_transform(documents)\n",
    "\n",
    "# Semantic Search using TF-IDF (Cosine Similarity)\n",
    "query = \"How do I get a refund?\"\n",
    "query_vec = vectorizer.transform([query])\n",
    "\n",
    "# Cosine similarity between query and documents\n",
    "cos_similarities = cosine_similarity(query_vec, X_tfidf).flatten()\n",
    "\n",
    "# Print top 3 most similar documents\n",
    "top_indices = cos_similarities.argsort()[-3:][::-1]\n",
    "print(\"🔍 Top 3 most similar questions to your query (TF-IDF):\")\n",
    "for idx in top_indices:\n",
    "    print(f\"• {documents[idx]} (Score: {cos_similarities[idx]:.3f})\")\n"
   ]
  },
  {
   "cell_type": "markdown",
   "id": "38bfc874",
   "metadata": {},
   "source": [
    "**Why move to next model?**\n",
    "TF-IDF improves representation, but still lacks understanding of word meaning or context. Word2Vec solves this."
   ]
  },
  {
   "cell_type": "markdown",
   "id": "9ca182e6",
   "metadata": {},
   "source": [
    "## (c). Word2Vec\n",
    "**Approach:**\n",
    "Learns dense vector representations of words based on their context (skip-gram or CBOW). We average word vectors to form document vectors.\n",
    "\n",
    "**Advantages:**\n",
    "- Captures semantic similarity (e.g., 'Paris' and 'France' are close)\n",
    "- Trained from large corpus, retains contextual info at word level\n",
    "\n",
    "**Disadvantages:**\n",
    "- Averages word vectors — loses sentence-level meaning\n",
    "- Ignores sentence structure or word order\n",
    "\n"
   ]
  },
  {
   "cell_type": "code",
   "execution_count": null,
   "id": "e38f7852",
   "metadata": {},
   "outputs": [
    {
     "name": "stdout",
     "output_type": "stream",
     "text": [
      "🔍 Top 3 most similar questions to your query (Word2Vec):\n",
      "• How do I reset my password? (Score: 0.821)\n",
      "• How do I track my package? (Score: 0.370)\n",
      "• How to change my shipping address? (Score: 0.149)\n"
     ]
    }
   ],
   "source": [
    "# Word2Vec\n",
    "import gensim\n",
    "from gensim.models import Word2Vec\n",
    "from sklearn.metrics.pairwise import cosine_similarity\n",
    "import numpy as np\n",
    "\n",
    "# documents (questions)\n",
    "documents = [\n",
    "    \"How do I reset my password?\",\n",
    "    \"Where can I find the refund policy?\",\n",
    "    \"What is the return period for electronics?\",\n",
    "    \"How to change my shipping address?\",\n",
    "    \"How do I contact customer service?\",\n",
    "    \"Is there a warranty on this product?\",\n",
    "    \"What are the delivery charges?\",\n",
    "    \"Can I cancel my order after shipping?\",\n",
    "    \"How do I track my package?\",\n",
    "    \"What payment methods are accepted?\"\n",
    "]\n",
    "\n",
    "# Preprocess documents: Tokenize each document into words\n",
    "tokenized_docs = [doc.lower().split() for doc in documents]\n",
    "\n",
    "# Train Word2Vec model\n",
    "model = Word2Vec(sentences=tokenized_docs, vector_size=100, window=5, min_count=1, workers=4)\n",
    "\n",
    "# Function to get the average Word2Vec embedding for a document\n",
    "def get_doc_embedding(doc):\n",
    "    words = doc.split()\n",
    "    word_vecs = [model.wv[word] for word in words if word in model.wv]\n",
    "    if word_vecs:\n",
    "        return np.mean(word_vecs, axis=0)\n",
    "    else:\n",
    "        return np.zeros(model.vector_size)\n",
    "\n",
    "# Get document embeddings\n",
    "doc_embeddings = np.array([get_doc_embedding(doc) for doc in documents])\n",
    "\n",
    "# Semantic Search using Word2Vec (Cosine Similarity)\n",
    "query = \"How do I reset my account password?\"\n",
    "query_tokens = query.lower().split()\n",
    "query_vec = np.mean([model.wv[word] for word in query_tokens if word in model.wv], axis=0)\n",
    "\n",
    "# Calculate cosine similarity between query vector and document embeddings\n",
    "cos_similarities = cosine_similarity([query_vec], doc_embeddings).flatten()\n",
    "\n",
    "# Print top 3 most similar documents\n",
    "top_indices = cos_similarities.argsort()[-3:][::-1]\n",
    "print(\"🔍 Top 3 most similar questions to your query (Word2Vec):\")\n",
    "for idx in top_indices:\n",
    "    print(f\"• {documents[idx]} (Score: {cos_similarities[idx]:.3f})\")\n"
   ]
  },
  {
   "cell_type": "markdown",
   "id": "d1062587",
   "metadata": {},
   "source": [
    "**Why move to next model?**\n",
    "To capture sentence-level semantics and context-aware meaning, we use BERT embeddings."
   ]
  },
  {
   "cell_type": "markdown",
   "id": "5709a92e",
   "metadata": {},
   "source": [
    "## (d). BERT + KMeans Clustering\n",
    "**Approach:**\n",
    "Use a pretrained Sentence-BERT model to embed entire sentences/documents. Then, apply **KMeans Clustering** to group similar documents in semantic space.\n",
    "\n",
    "**Advantages:**\n",
    "- Understands context, grammar, and word order\n",
    "- Excellent semantic understanding at sentence level\n",
    "- Clustering enables efficient retrieval/grouping\n",
    "\n",
    "**Disadvantages:**\n",
    "- Computationally heavier than previous methods\n",
    "- Requires pretrained models and more resources\n",
    "\n",
    "**Final Model:**\n",
    "Combines power of transformer-based embeddings with clustering for scalable semantic search."
   ]
  },
  {
   "cell_type": "code",
   "execution_count": null,
   "id": "6032aef6",
   "metadata": {},
   "outputs": [
    {
     "name": "stderr",
     "output_type": "stream",
     "text": [
      "/Users/adityabhushan/anaconda3/lib/python3.11/site-packages/sklearn/cluster/_kmeans.py:1412: FutureWarning: The default value of `n_init` will change from 10 to 'auto' in 1.4. Set the value of `n_init` explicitly to suppress the warning\n",
      "  super()._check_params_vs_input(X, default_n_init=10)\n",
      "huggingface/tokenizers: The current process just got forked, after parallelism has already been used. Disabling parallelism to avoid deadlocks...\n",
      "To disable this warning, you can either:\n",
      "\t- Avoid using `tokenizers` before the fork if possible\n",
      "\t- Explicitly set the environment variable TOKENIZERS_PARALLELISM=(true | false)\n"
     ]
    },
    {
     "name": "stdout",
     "output_type": "stream",
     "text": [
      "🔍 Top 3 most similar questions to your query (BERT + KMeans):\n",
      "• How do I reset my password? (Score: 0.965)\n",
      "• How do I contact customer service? (Score: 0.369)\n",
      "• How to change my shipping address? (Score: 0.293)\n",
      "\n",
      "Document clusters (BERT + KMeans):\n",
      "Document: How do I reset my password? | Cluster: 0\n",
      "Document: Where can I find the refund policy? | Cluster: 1\n",
      "Document: What is the return period for electronics? | Cluster: 1\n",
      "Document: How to change my shipping address? | Cluster: 2\n",
      "Document: How do I contact customer service? | Cluster: 2\n",
      "Document: Is there a warranty on this product? | Cluster: 1\n",
      "Document: What are the delivery charges? | Cluster: 2\n",
      "Document: Can I cancel my order after shipping? | Cluster: 2\n",
      "Document: How do I track my package? | Cluster: 2\n",
      "Document: What payment methods are accepted? | Cluster: 1\n",
      "Document: What are the best places to visit in Europe? | Cluster: 0\n"
     ]
    }
   ],
   "source": [
    "### BERT Embeddings + KMeans Clustering\n",
    "from sentence_transformers import SentenceTransformer\n",
    "from sklearn.cluster import KMeans\n",
    "from sklearn.metrics.pairwise import cosine_similarity\n",
    "import numpy as np\n",
    "\n",
    "# documents (questions)\n",
    "documents = [\n",
    "    \"How do I reset my password?\",\n",
    "    \"Where can I find the refund policy?\",\n",
    "    \"What is the return period for electronics?\",\n",
    "    \"How to change my shipping address?\",\n",
    "    \"How do I contact customer service?\",\n",
    "    \"Is there a warranty on this product?\",\n",
    "    \"What are the delivery charges?\",\n",
    "    \"Can I cancel my order after shipping?\",\n",
    "    \"How do I track my package?\",\n",
    "    \"What payment methods are accepted?\",\n",
    "    \"What are the best places to visit in Europe?\"\n",
    "]\n",
    "\n",
    "# Stage 4: BERT-based Embeddings using Sentence-BERT\n",
    "model = SentenceTransformer('all-MiniLM-L6-v2')  # Using a pre-trained SBERT model\n",
    "doc_embeddings = model.encode(documents)\n",
    "\n",
    "# Apply KMeans Clustering on BERT embeddings\n",
    "num_clusters = 3  # You can change the number of clusters based on your use case\n",
    "kmeans = KMeans(n_clusters=num_clusters, random_state=42)\n",
    "kmeans.fit(doc_embeddings)\n",
    "\n",
    "# Get the cluster of each document\n",
    "document_clusters = kmeans.predict(doc_embeddings)\n",
    "\n",
    "# Semantic Search: Find the most similar cluster for a given query\n",
    "query = \"How do I reset my account password?\"\n",
    "query_embedding = model.encode([query])\n",
    "\n",
    "# Get the cosine similarity between the query and each document\n",
    "cos_similarities = cosine_similarity(query_embedding, doc_embeddings).flatten()\n",
    "\n",
    "# Print top 3 most similar documents\n",
    "top_indices = cos_similarities.argsort()[-3:][::-1]\n",
    "\n",
    "print(\"🔍 Top 3 most similar questions to your query (BERT + KMeans):\")\n",
    "for idx in top_indices:\n",
    "    print(f\"• {documents[idx]} (Score: {cos_similarities[idx]:.3f})\")\n",
    "\n",
    "# Display the clusters for each document\n",
    "print(\"\\nDocument clusters (BERT + KMeans):\")\n",
    "for idx, doc in enumerate(documents):\n",
    "    print(f\"Document: {doc} | Cluster: {document_clusters[idx]}\")\n"
   ]
  },
  {
   "cell_type": "markdown",
   "id": "98aeeb12",
   "metadata": {},
   "source": [
    "#  Why Compare Evaluation Metrics?\n",
    "- In this notebook, we compare the Average Cosine Similarity of different text representation techniques (BoW, TF-IDF, Word2Vec, and BERT + Mean). \n",
    "- This comparison helps us understand which technique best captures the semantic relationships between document titles.\n",
    "- A higher similarity indicates that the technique considers many titles to be closely related, while a lower similarity suggests more diverse or unique titles.\n",
    "- By comparing these metrics, we can identify the most suitable technique for tasks like semantic search, clustering, or similarity analysis.\n",
    "- Understanding this comparison is crucial for selecting the right text representation method for your specific use case."
   ]
  },
  {
   "cell_type": "code",
   "execution_count": null,
   "id": "aa98de47",
   "metadata": {},
   "outputs": [
    {
     "name": "stderr",
     "output_type": "stream",
     "text": [
      "/Users/adityabhushan/anaconda3/lib/python3.11/site-packages/keras/src/layers/core/embedding.py:90: UserWarning: Argument `input_length` is deprecated. Just remove it.\n",
      "  warnings.warn(\n"
     ]
    },
    {
     "name": "stdout",
     "output_type": "stream",
     "text": [
      "\n",
      "Comparative Analysis of Techniques:\n",
      "\n",
      "              Technique  Average Cosine Similarity\n",
      "0                   BoW                   0.187534\n",
      "1                TF-IDF                   0.154998\n",
      "2              Word2Vec                   0.205432\n",
      "3           BERT + Mean                   0.751626\n",
      "4  Deep Learning (LSTM)                   0.856874\n"
     ]
    },
    {
     "data": {
      "image/png": "[encoded data removed]",
      "text/plain": [
       "<Figure size 1000x600 with 1 Axes>"
      ]
     },
     "metadata": {},
     "output_type": "display_data"
    }
   ],
   "source": [
    "import pandas as pd\n",
    "import matplotlib.pyplot as plt\n",
    "import seaborn as sns\n",
    "from sklearn.feature_extraction.text import CountVectorizer, TfidfVectorizer\n",
    "from sklearn.metrics import pairwise_distances\n",
    "from gensim.models import Word2Vec\n",
    "from transformers import BertModel, BertTokenizer\n",
    "import torch\n",
    "from tensorflow.keras.preprocessing.text import Tokenizer\n",
    "from tensorflow.keras.preprocessing.sequence import pad_sequences\n",
    "from tensorflow.keras.models import Sequential\n",
    "from tensorflow.keras.layers import Embedding, LSTM, Dense\n",
    "import numpy as np\n",
    "\n",
    "# documents\n",
    "documents = [\n",
    "    \"How do I reset my password?\",\n",
    "    \"Where can I find the refund policy?\",\n",
    "    \"What is the return period for electronics?\",\n",
    "    \"How to change my shipping address?\",\n",
    "    \"How do I contact customer service?\",\n",
    "    \"Is there a warranty on this product?\",\n",
    "    \"What are the delivery charges?\",\n",
    "    \"Can I cancel my order after shipping?\",\n",
    "    \"How do I track my package?\",\n",
    "    \"What payment methods are accepted?\",\n",
    "    \"What are the best places to visit in Europe?\"\n",
    "]\n",
    "# Markdown: Why Compare Evaluation Metrics?\n",
    "# In this notebook, we compare the Average Cosine Similarity of different text representation techniques (BoW, TF-IDF, Word2Vec, BERT + Mean, and Deep Learning LSTM). This helps us understand which technique best captures the semantic relationships between document titles.\n",
    "\n",
    "# BoW Technique\n",
    "bow_vectorizer = CountVectorizer()\n",
    "X_bow = bow_vectorizer.fit_transform(documents)\n",
    "bow_similarity = 1 - pairwise_distances(X_bow, metric='cosine')\n",
    "\n",
    "# TF-IDF Technique\n",
    "tfidf_vectorizer = TfidfVectorizer()\n",
    "X_tfidf = tfidf_vectorizer.fit_transform(documents)\n",
    "tfidf_similarity = 1 - pairwise_distances(X_tfidf, metric='cosine')\n",
    "\n",
    "# Word2Vec Technique\n",
    "sentences = [doc.split() for doc in documents]\n",
    "w2v_model = Word2Vec(sentences, vector_size=100, window=5, min_count=1, sg=0)\n",
    "X_w2v = [w2v_model.wv[doc].mean(axis=0) for doc in sentences]\n",
    "w2v_similarity = 1 - pairwise_distances(X_w2v, metric='cosine')\n",
    "\n",
    "# BERT + Mean Embeddings\n",
    "tokenizer = BertTokenizer.from_pretrained('bert-base-uncased')\n",
    "bert_model = BertModel.from_pretrained('bert-base-uncased')\n",
    "def bert_embedding(text):\n",
    "    inputs = tokenizer(text, return_tensors='pt', padding=True, truncation=True, max_length=128)\n",
    "    with torch.no_grad():\n",
    "        outputs = bert_model(**inputs)\n",
    "    return outputs.last_hidden_state.mean(dim=1).squeeze().numpy()\n",
    "\n",
    "X_bert = [bert_embedding(doc) for doc in documents]\n",
    "bert_similarity = 1 - pairwise_distances(X_bert, metric='cosine')\n",
    "\n",
    "# Deep Learning Technique (LSTM)\n",
    "tokenizer_dl = Tokenizer(num_words=10000)\n",
    "tokenizer_dl.fit_on_texts(documents)\n",
    "X_dl = tokenizer_dl.texts_to_sequences(documents)\n",
    "X_dl = pad_sequences(X_dl, maxlen=100)\n",
    "\n",
    "model_dl = Sequential([\n",
    "    Embedding(input_dim=10000, output_dim=128, input_length=100),\n",
    "    LSTM(64, return_sequences=False),\n",
    "    Dense(128, activation='relu'),\n",
    "    Dense(64, activation='relu'),\n",
    "    Dense(32, activation='relu')\n",
    "])\n",
    "\n",
    "model_dl.compile(optimizer='adam', loss='mean_squared_error')\n",
    "X_dl_embeddings = model_dl.predict(X_dl, verbose=0)\n",
    "dl_similarity = 1 - pairwise_distances(X_dl_embeddings, metric='cosine')\n",
    "\n",
    "\n",
    "# Comparative Analysis (Average Similarity Score)\n",
    "def compare_techniques(bow_sim, tfidf_sim, w2v_sim, bert_sim, dl_sim):\n",
    "    metrics = pd.DataFrame({\n",
    "        'Technique': ['BoW', 'TF-IDF', 'Word2Vec', 'BERT + Mean', 'Deep Learning (LSTM)'],\n",
    "        'Average Cosine Similarity': [bow_sim.mean(), tfidf_sim.mean(), w2v_sim.mean(), bert_sim.mean(), dl_sim.mean()]\n",
    "    })\n",
    "    return metrics\n",
    "\n",
    "# Displaying Comparative Analysis\n",
    "comparison = compare_techniques(bow_similarity, tfidf_similarity, w2v_similarity, bert_similarity, dl_similarity)\n",
    "print(\"\\nComparative Analysis of Techniques:\\n\")\n",
    "print(comparison)\n",
    "\n",
    "# Plotting the Comparative Analysis\n",
    "plt.figure(figsize=(10, 6))\n",
    "sns.barplot(x='Technique', y='Average Cosine Similarity', data=comparison, palette='viridis')\n",
    "plt.title('Average Cosine Similarity Comparison of Text Representation Techniques')\n",
    "plt.show()\n"
   ]
  },
  {
   "cell_type": "markdown",
   "id": "60ff01d1",
   "metadata": {},
   "source": [
    "# Analysis of Results\n",
    "- The results of the Comparative Analysis of Techniques show the following:\n",
    "- BoW has an average cosine similarity of 0.187534, indicating that it captures some word overlap between titles but lacks deeper understanding.\n",
    "- TF-IDF has an even lower similarity (0.154998) because it reduces the impact of common words, focusing more on unique terms.\n",
    "- Word2Vec provides a higher similarity (0.205432) because it captures semantic relationships between words (e.g., \"king\" and \"queen\" are closer).\n",
    "- BERT + KMeans and Deep Learning (LSTM)  achieves the highest similarity (around 0.751626) because it captures contextual and semantic meaning, making even slightly related titles appear similar.\n",
    "- These results indicate that BERT and Deep Learning (LSTM) is the most effective technique for capturing the semantic relationships between titles, while TF-IDF is the most restrictive."
   ]
  },
  {
   "cell_type": "markdown",
   "id": "f48c419e",
   "metadata": {},
   "source": [
    "## 5. Reflections\n",
    "\n",
    "**What Surprised Me:**\n",
    "\n",
    "- How dramatically BERT embeddings improved semantic accuracy over traditional models.\n",
    "\n",
    "- That even simple averaging of BERT sentence embeddings performed remarkably well for semantic clustering.\n",
    "\n",
    "- The clear thematic structure revealed after clustering BERT embeddings, which was not possible with BoW or TF-IDF.\n",
    "\n",
    "**Scope for Improvement:**\n",
    "\n",
    "- Integrating a more scalable retrieval backend like FAISS could enhance performance on larger corpora.\n",
    "\n",
    "- Experimenting with fine-tuned BERT models (e.g., SBERT or domain-specific ones) could yield even more refined search quality.\n",
    "\n",
    "- Incorporating feedback loops could make the system adaptive and personalized over time."
   ]
  },
  {
   "cell_type": "markdown",
   "id": "6440eece",
   "metadata": {},
   "source": [
    "## 6. References\n",
    "- https://huggingface.co/sentence-transformers/all-MiniLM-L6-v2\n",
    "- https://nlp.stanford.edu/projects/glove/\n",
    "- https://bair.berkeley.edu/blog/2024/07/20/visual-haystacks/"
   ]
  }
 ],
 "metadata": {
  "kernelspec": {
   "display_name": "base",
   "language": "python",
   "name": "python3"
  },
  "language_info": {
   "codemirror_mode": {
    "name": "ipython",
    "version": 3
   },
   "file_extension": ".py",
   "mimetype": "text/x-python",
   "name": "python",
   "nbconvert_exporter": "python",
   "pygments_lexer": "ipython3",
   "version": "3.11.5"
  }
 },
 "nbformat": 4,
 "nbformat_minor": 5
}
